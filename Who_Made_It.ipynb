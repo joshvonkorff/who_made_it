{
 "cells": [
  {
   "cell_type": "code",
   "execution_count": 1,
   "id": "f732676e-38be-4b1c-b03c-d872c50f5e95",
   "metadata": {},
   "outputs": [],
   "source": [
    "from openai import OpenAI\n",
    "from datetime import datetime\n",
    "from better_profanity import profanity\n",
    "import hashlib\n",
    "import re\n",
    "import os\n",
    "from tqdm import tqdm\n",
    "import numpy as np\n",
    "\n",
    "import logging\n",
    "\n",
    "logger = logging.getLogger()\n",
    "logger.setLevel(logging.DEBUG)"
   ]
  },
  {
   "cell_type": "code",
   "execution_count": 2,
   "id": "057c2ff6-328d-4453-a0b6-0c12c731bb35",
   "metadata": {},
   "outputs": [],
   "source": [
    "api_key=os.environ.get(\"OPENAI_API_KEY\", False)\n",
    "if api_key:\n",
    "    client = OpenAI(api_key=api_key)\n",
    "else:\n",
    "    print(\"PROBLEM: no OPENAI_API_KEY in environment\")\n",
    "\n",
    "NAMESPACE = 'default'\n",
    "OPENAI_MODEL = 'text-embedding-ada-002'"
   ]
  },
  {
   "cell_type": "code",
   "execution_count": 8,
   "id": "0d4576b3-8a87-4b20-a72d-6c7e854cc899",
   "metadata": {},
   "outputs": [],
   "source": [
    "import re\n",
    "from bs4 import BeautifulSoup\n",
    "from urllib.request import urlopen\n",
    "\n",
    "poemlist_uncensored = list()\n",
    "\n",
    "with urlopen('https://bestofthenetanthology.com/2023-2/poetry2023/') as response:\n",
    "    soup = BeautifulSoup(response, 'html.parser')\n",
    "    for par in soup.find_all('p'):\n",
    "        for anchor in par.find_all('a'):\n",
    "            if(re.match(\".*https://bestofthenetanthology.com/2023-2/poetry2023/.*\", anchor.get('href'))):\n",
    "                with urlopen(anchor.get('href')) as response2:\n",
    "                    soup2 = BeautifulSoup(response2, 'html.parser')\n",
    "                    delimiter = \"\\n\"\n",
    "                    for line_break in soup2.findAll('br'):       # loop through line break tags\n",
    "                        line_break.replaceWith(delimiter)\n",
    "                    textlist = \"\"\n",
    "                    for par in soup2.find_all('p'):\n",
    "                        textlist = textlist + \"\\n\" + par.text\n",
    "                        #print(par.text)\n",
    "                        #print(\"---\")\n",
    "                    poemlist_uncensored.append(textlist)\n",
    "                    #print(\"----------------\")\n",
    "        #    print(anchor.href)"
   ]
  },
  {
   "cell_type": "code",
   "execution_count": 9,
   "id": "c434069d-9ceb-46b3-8ba9-ded3cd07ac51",
   "metadata": {},
   "outputs": [],
   "source": [
    "poemlist = [profanity.censor(x) for x in poemlist_uncensored]"
   ]
  },
  {
   "cell_type": "code",
   "execution_count": 10,
   "id": "b90f1d0f-31cd-43eb-a912-3c1cb6336681",
   "metadata": {},
   "outputs": [],
   "source": [
    "fakepoemlist = list()\n",
    "n = 0\n",
    "max_n = len(poemlist) - 1\n",
    "for poem in poemlist:\n",
    "    start = poem[0:80]\n",
    "    query = f\"\"\"\n",
    "    Please complete the following poem's beginning.  Start with this string of characters, then add to it to write a poem of about 300\n",
    "    characters.  The given string:\n",
    "    -------\n",
    "    {start}\n",
    "    \"\"\"\n",
    "    #if n == 0:\n",
    "    #    print(start)\n",
    "    chat_completion = client.chat.completions.create(\n",
    "        messages=[\n",
    "            {\n",
    "                \"role\": \"user\",\n",
    "                \"content\": query,\n",
    "            }\n",
    "        ],\n",
    "        model=\"gpt-3.5-turbo\",\n",
    "    )\n",
    "    fakepoem = chat_completion.choices[0].message.content\n",
    "    fakepoemlist.append(poem[0:80] + fakepoem)\n",
    "    n += 1\n",
    "    if n > max_n:\n",
    "        break"
   ]
  },
  {
   "cell_type": "code",
   "execution_count": 12,
   "id": "2edb606c-8a02-447e-8017-f6b6b4017d3f",
   "metadata": {},
   "outputs": [],
   "source": [
    "import pandas as pd\n",
    "import json\n",
    "import random\n",
    "lst = list()\n",
    "for poem in poemlist[0:9]:\n",
    "    msg = {\"messages\": [{\"role\": \"system\", \"content\": \"You want to write 0 if a poem is written by AI and 1 if written by a human.  This usually means to write a 0 if there are cliches, and 1 if there are few or no cliches in the writing.\"}, {\"role\": \"user\", \"content\": poem}, {\"role\": \"assistant\", \"content\": \" 1\"}]}\n",
    "    lst.append(json.dumps(msg))\n",
    "for fakepoem in fakepoemlist[0:9]:\n",
    "    msg = {\"messages\": [{\"role\": \"system\", \"content\": \"You want to write 0 if a poem is written by AI and 1 if written by a human.  This usually means to write a 0 if there are cliches, and 1 if there are few or no cliches in the writing.\"}, {\"role\": \"user\", \"content\": fakepoem}, {\"role\": \"assistant\", \"content\": \" 0\"}]}\n",
    "    lst.append(json.dumps(msg))\n",
    "random.shuffle(lst)\n",
    "# Create JSONL training file with the first N poems and the first N fake poems\n",
    "with open(\"who_made_it_training.jsonl\", \"w\") as file:\n",
    "    for elt in lst:\n",
    "        file.write(elt + \"\\n\")"
   ]
  },
  {
   "cell_type": "markdown",
   "id": "4ec120dc-4918-4a0e-b4f5-d4686f3c2ef8",
   "metadata": {},
   "source": [
    "### I had to tell it explicitly that cliches were a key element in determining AI or human writing; without that, it couldn't do the task."
   ]
  },
  {
   "cell_type": "code",
   "execution_count": 14,
   "id": "30771ebc-e7c0-49a5-9326-d9b4909ac993",
   "metadata": {},
   "outputs": [
    {
     "data": {
      "text/plain": [
       "FileObject(id='file-cYj7ddKsLTIMIsQeXFjzlYBG', bytes=29524, created_at=1706732450, filename='who_made_it_training.jsonl', object='file', purpose='fine-tune', status='processed', status_details=None)"
      ]
     },
     "execution_count": 14,
     "metadata": {},
     "output_type": "execute_result"
    }
   ],
   "source": [
    "from openai import OpenAI\n",
    "client = OpenAI()\n",
    "client.files.create(\n",
    "    file=open(\"who_made_it_training.jsonl\", \"rb\"),\n",
    "    purpose=\"fine-tune\"\n",
    ")"
   ]
  },
  {
   "cell_type": "code",
   "execution_count": 15,
   "id": "178a1e70-7b25-4451-856b-b3e5d23c0472",
   "metadata": {},
   "outputs": [
    {
     "data": {
      "text/plain": [
       "FineTuningJob(id='ftjob-A52A53WjhjmmOna6g1L189hV', created_at=1706732473, error=None, fine_tuned_model=None, finished_at=None, hyperparameters=Hyperparameters(n_epochs='auto', batch_size='auto', learning_rate_multiplier='auto'), model='gpt-3.5-turbo-0613', object='fine_tuning.job', organization_id='org-8z44pY81VjnlhTypxmxrOHp3', result_files=[], status='validating_files', trained_tokens=None, training_file='file-cYj7ddKsLTIMIsQeXFjzlYBG', validation_file=None)"
      ]
     },
     "execution_count": 15,
     "metadata": {},
     "output_type": "execute_result"
    }
   ],
   "source": [
    "client.fine_tuning.jobs.create(\n",
    "    training_file=\"file-cYj7ddKsLTIMIsQeXFjzlYBG\",\n",
    "    model=\"gpt-3.5-turbo\"\n",
    ")"
   ]
  },
  {
   "cell_type": "code",
   "execution_count": 18,
   "id": "f5eb8cb4-d81a-4f18-ba08-13d35c44d24d",
   "metadata": {},
   "outputs": [
    {
     "data": {
      "text/plain": [
       "FineTuningJob(id='ftjob-A52A53WjhjmmOna6g1L189hV', created_at=1706732473, error=None, fine_tuned_model='ft:gpt-3.5-turbo-0613:personal::8nBTHV3d', finished_at=1706732859, hyperparameters=Hyperparameters(n_epochs=5, batch_size=1, learning_rate_multiplier=2), model='gpt-3.5-turbo-0613', object='fine_tuning.job', organization_id='org-8z44pY81VjnlhTypxmxrOHp3', result_files=['file-e2LWKByWO2SZ6T8IyDMyZU20'], status='succeeded', trained_tokens=33895, training_file='file-cYj7ddKsLTIMIsQeXFjzlYBG', validation_file=None)"
      ]
     },
     "execution_count": 18,
     "metadata": {},
     "output_type": "execute_result"
    }
   ],
   "source": [
    "client.fine_tuning.jobs.retrieve(\"ftjob-A52A53WjhjmmOna6g1L189hV\")"
   ]
  },
  {
   "cell_type": "code",
   "execution_count": 19,
   "id": "e6d9f766-4742-4916-90de-5003aec9bb96",
   "metadata": {},
   "outputs": [],
   "source": [
    "def test_poem(poem):\n",
    "    response = client.chat.completions.create(\n",
    "        model=\"ft:gpt-3.5-turbo-0613:personal::8nBTHV3d\",\n",
    "        messages=[\n",
    "            {\"role\": \"system\", \"content\": \"You want to write 0 if a poem is written by AI and 1 if written by a human.  This usually means to write a 0 if there are cliches, and 1 if there are few or no cliches in the writing.\"},\n",
    "            {\"role\": \"user\", \"content\": poem}\n",
    "        ]\n",
    "    )\n",
    "    return \"Written by a real poet\" if \"1\" in response.choices[0].message.content else \"Written by AI or amateur\""
   ]
  },
  {
   "cell_type": "code",
   "execution_count": 20,
   "id": "d13fca6e-5fd8-4fdc-8075-c14addc8b088",
   "metadata": {},
   "outputs": [],
   "source": [
    "# This poem was written by ChatGPT\n",
    "openai_poem = \"\"\"In a land of whimsy, under a candy-coated sky, \n",
    "Where laughter flowed like rivers, and pigs knew how to fly. \n",
    "A quirky tale unfolds, in rhyme and jest, \n",
    "A silly little poem, just for your zest.\"\"\""
   ]
  },
  {
   "cell_type": "code",
   "execution_count": 21,
   "id": "f978e1b5-dfda-4ee4-b305-8403788fc4f6",
   "metadata": {},
   "outputs": [
    {
     "data": {
      "text/plain": [
       "'Written by AI or amateur'"
      ]
     },
     "execution_count": 21,
     "metadata": {},
     "output_type": "execute_result"
    }
   ],
   "source": [
    "test_poem(openai_poem)"
   ]
  },
  {
   "cell_type": "code",
   "execution_count": 22,
   "id": "7660766a-45a4-4127-af25-2270ff51eae0",
   "metadata": {},
   "outputs": [],
   "source": [
    "# This poem was written by me\n",
    "my_poem = \"\"\"This is a poem.  Yes it is.  It is not a very good one.  Oh no it is not.  \n",
    "But it is about butterflies, trees, and mountains.\"\"\""
   ]
  },
  {
   "cell_type": "code",
   "execution_count": 23,
   "id": "53a6982a-85ab-43d1-81e4-d55e21ebc9e6",
   "metadata": {},
   "outputs": [
    {
     "data": {
      "text/plain": [
       "'Written by AI or amateur'"
      ]
     },
     "execution_count": 23,
     "metadata": {},
     "output_type": "execute_result"
    }
   ],
   "source": [
    "test_poem(my_poem)"
   ]
  },
  {
   "cell_type": "code",
   "execution_count": 24,
   "id": "585dc03d-905d-40dc-93af-193f80cbbf69",
   "metadata": {},
   "outputs": [],
   "source": [
    "# This was written by a real poet.\n",
    "real_poem = \"\"\"The bud\n",
    "stands for all things,\n",
    "even for those things that don't flower,\n",
    "for everything flowers, from within, of self-blessing;\n",
    "though sometimes it is necessary\n",
    "to reteach a thing its loveliness,\n",
    "to put a hand on its brow\n",
    "of the flower\n",
    "and retell it in words and in touch\n",
    "it is lovely\n",
    "until it flowers again from within, of self-blessing;\"\"\""
   ]
  },
  {
   "cell_type": "code",
   "execution_count": 25,
   "id": "08438578-19f6-4da9-b0c3-143fb13e850b",
   "metadata": {},
   "outputs": [
    {
     "data": {
      "text/plain": [
       "'Written by a real poet'"
      ]
     },
     "execution_count": 25,
     "metadata": {},
     "output_type": "execute_result"
    }
   ],
   "source": [
    "test_poem(real_poem)"
   ]
  },
  {
   "cell_type": "code",
   "execution_count": 26,
   "id": "d0ed9f5d-a9a0-4e61-826c-f0bd23419dde",
   "metadata": {},
   "outputs": [
    {
     "name": "stdout",
     "output_type": "stream",
     "text": [
      "Written by a real poet\n",
      "Written by a real poet\n",
      "Written by a real poet\n",
      "Written by a real poet\n",
      "Written by a real poet\n",
      "Written by a real poet\n",
      "Written by AI or amateur\n",
      "Written by a real poet\n",
      "Written by a real poet\n"
     ]
    }
   ],
   "source": [
    "# All of these were written by real poets.\n",
    "for poem in poemlist[10:]:\n",
    "    print(test_poem(poem))"
   ]
  },
  {
   "cell_type": "code",
   "execution_count": 27,
   "id": "a4ed1416-eba0-494a-9abd-0c1c1928f78c",
   "metadata": {},
   "outputs": [
    {
     "name": "stdout",
     "output_type": "stream",
     "text": [
      "Written by AI or amateur\n",
      "Written by AI or amateur\n",
      "Written by AI or amateur\n",
      "Written by AI or amateur\n",
      "Written by AI or amateur\n",
      "Written by AI or amateur\n",
      "Written by AI or amateur\n",
      "Written by AI or amateur\n",
      "Written by AI or amateur\n"
     ]
    }
   ],
   "source": [
    "# All of these were written by AI.\n",
    "for poem in fakepoemlist[10:]:\n",
    "    print(test_poem(poem))"
   ]
  },
  {
   "cell_type": "code",
   "execution_count": 30,
   "id": "be1330f2-fac0-4872-bad1-ca03ad3605fa",
   "metadata": {},
   "outputs": [],
   "source": [
    "# In some runs of this code, GPT thinks a real poet wrote this.  This time, it realized it is a fake.\n",
    "poem = \"\"\"Sassafrass purple guppy monkey silly water box trapeze artist giraffe monsters.\"\"\""
   ]
  },
  {
   "cell_type": "code",
   "execution_count": 29,
   "id": "ba90638e-1c28-4da1-be38-b0a2173f6189",
   "metadata": {},
   "outputs": [
    {
     "data": {
      "text/plain": [
       "'Written by AI or amateur'"
      ]
     },
     "execution_count": 29,
     "metadata": {},
     "output_type": "execute_result"
    }
   ],
   "source": [
    "test_poem(poem)"
   ]
  },
  {
   "cell_type": "code",
   "execution_count": 41,
   "id": "23500780-bda3-4f64-8523-e7d1a8ff2cce",
   "metadata": {},
   "outputs": [
    {
     "data": {
      "text/plain": [
       "'Written by a real poet'"
      ]
     },
     "execution_count": 41,
     "metadata": {},
     "output_type": "execute_result"
    }
   ],
   "source": [
    "poem = \"\"\"Two roads diverged in a yellow wood,\n",
    "And sorry I could not travel both\n",
    "And be one traveler, long I stood\n",
    "And looked down one as far as I could\n",
    "To where it bent in the undergrowth;\"\"\"\n",
    "test_poem(poem)"
   ]
  },
  {
   "cell_type": "code",
   "execution_count": null,
   "id": "26eeb214-cf64-4e7e-990b-e24f00986247",
   "metadata": {},
   "outputs": [],
   "source": []
  }
 ],
 "metadata": {
  "kernelspec": {
   "display_name": "Python 3 (ipykernel)",
   "language": "python",
   "name": "python3"
  },
  "language_info": {
   "codemirror_mode": {
    "name": "ipython",
    "version": 3
   },
   "file_extension": ".py",
   "mimetype": "text/x-python",
   "name": "python",
   "nbconvert_exporter": "python",
   "pygments_lexer": "ipython3",
   "version": "3.12.0"
  }
 },
 "nbformat": 4,
 "nbformat_minor": 5
}
